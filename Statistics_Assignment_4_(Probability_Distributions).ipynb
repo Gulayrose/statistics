{
 "cells": [
  {
   "cell_type": "markdown",
   "id": "be0f88ca-b680-4e56-8a11-18241fec7e70",
   "metadata": {},
   "source": [
    "### EXERCISE 1. Answer the following questions by looking at the distribution table or coding with Python."
   ]
  },
  {
   "cell_type": "code",
   "execution_count": 17,
   "id": "92dd0cff-4515-4891-9579-2f7ac95873b9",
   "metadata": {},
   "outputs": [],
   "source": [
    "import numpy as np\n",
    "import pandas as pd\n",
    "from scipy import stats\n",
    "import seaborn as sns\n",
    "import matplotlib.pyplot as plt"
   ]
  },
  {
   "cell_type": "markdown",
   "id": "0102c289-196c-492d-84f5-a47396788d37",
   "metadata": {},
   "source": [
    "### 1- A salesperson has found that the probability of a sale on a single contact is approximately .3. If the salesperson contacts 10 prospects, what is the approximate probability of making at least one sale?"
   ]
  },
  {
   "cell_type": "code",
   "execution_count": 14,
   "id": "4480d541-b709-4cb7-b6b2-12ee29b8db1c",
   "metadata": {},
   "outputs": [
    {
     "data": {
      "text/plain": [
       "0.9717524751"
      ]
     },
     "execution_count": 14,
     "metadata": {},
     "output_type": "execute_result"
    }
   ],
   "source": [
    "n = 10    # the number of contact\n",
    "p = 0.3   # probability of a sale on a single contact\n",
    "x = 0   # sale: this is P(X≥1)=P(1)+P(2)+P(3)+...+P(10)\n",
    "\n",
    "1 - stats.binom.cdf(x, n, p)"
   ]
  },
  {
   "cell_type": "markdown",
   "id": "48ccd049-bb00-47a6-b339-343a5d5fa928",
   "metadata": {},
   "source": [
    "### 2- Ten coins are tossed simultaneously. Find the probability of getting\n",
    "### (i) at least seven heads\n",
    "\n"
   ]
  },
  {
   "cell_type": "code",
   "execution_count": 15,
   "id": "a036f161-2c33-4975-a544-d96562532035",
   "metadata": {},
   "outputs": [
    {
     "data": {
      "text/plain": [
       "0.171875"
      ]
     },
     "execution_count": 15,
     "metadata": {},
     "output_type": "execute_result"
    }
   ],
   "source": [
    "n = 10    # the number of toss\n",
    "p = 0.5   # probability of a head\n",
    "x = 6   # at least seven heads P(X≥7)=P(7)+P(8)+P(9)+P(10)\n",
    "\n",
    "1 - stats.binom.cdf(x, n, p)"
   ]
  },
  {
   "cell_type": "markdown",
   "id": "ad2da235-6318-49c2-ab63-1265d0bbe55a",
   "metadata": {},
   "source": [
    "### (ii) exactly seven heads"
   ]
  },
  {
   "cell_type": "code",
   "execution_count": 18,
   "id": "b45d7ea5-ac64-44ca-9705-ffae1adb885a",
   "metadata": {},
   "outputs": [
    {
     "data": {
      "text/plain": [
       "0.11718749999999999"
      ]
     },
     "execution_count": 18,
     "metadata": {},
     "output_type": "execute_result"
    }
   ],
   "source": [
    "stats.binom.pmf(k=7, n=10, p=0.5)"
   ]
  },
  {
   "cell_type": "markdown",
   "id": "ffcd6108-04ad-4b2c-ba90-1ac8fd6f49a6",
   "metadata": {},
   "source": [
    "### (iii)at most seven heads"
   ]
  },
  {
   "cell_type": "code",
   "execution_count": 20,
   "id": "2f57c4b4-37de-4c08-977f-a1b92eb6bb77",
   "metadata": {},
   "outputs": [
    {
     "data": {
      "text/plain": [
       "0.9453125"
      ]
     },
     "execution_count": 20,
     "metadata": {},
     "output_type": "execute_result"
    }
   ],
   "source": [
    "x=7\n",
    "stats.binom.cdf(x, n, p)"
   ]
  },
  {
   "cell_type": "markdown",
   "id": "ba3fb07d-d78d-413e-ab07-20e1f5ee4f97",
   "metadata": {},
   "source": [
    "### EXERCISE 2. The cycle time for trucks hauling concrete to a highway construction site is uniformly distributed over the interval 50 to 70 minutes. What is the probability that the cycle time exceeds 65 minutes  if it is known that the cycle time exceeds 55 minutes?"
   ]
  },
  {
   "cell_type": "code",
   "execution_count": 9,
   "id": "1634eb6d-b673-4b56-a60c-99683c8d0636",
   "metadata": {},
   "outputs": [
    {
     "data": {
      "text/plain": [
       "1.0"
      ]
     },
     "execution_count": 9,
     "metadata": {},
     "output_type": "execute_result"
    }
   ],
   "source": [
    "#P(Y>65|Y>55)\n",
    "\n",
    "Y = cycle time. Thus, Y has a uniform distribution on the interval (50, 70). Then,\n",
    "P(Y > 65 | Y > 55) = P(Y > 65)/P(Y > 55) = .25/(.75) = 1/3.\n"
   ]
  },
  {
   "cell_type": "markdown",
   "id": "3dd8a733-f8db-447b-8fd8-647f1aad08d1",
   "metadata": {},
   "source": [
    "### EXERCISE 3. The width of bolts of fabric is normally distributed with mean 950 mm (millimeters) and standard deviation 10 mm.\n",
    "\n",
    "### 1- What is the probability that a randomly chosen bolt has a width of between 947 and 958mm?\n"
   ]
  },
  {
   "cell_type": "code",
   "execution_count": 11,
   "id": "39279c36-1493-4e59-8217-9a0e31667251",
   "metadata": {},
   "outputs": [
    {
     "data": {
      "text/plain": [
       "0.406056023605556"
      ]
     },
     "execution_count": 11,
     "metadata": {},
     "output_type": "execute_result"
    }
   ],
   "source": [
    "#mu=950mm\n",
    "#std = 10mm\n",
    "#P(947<Y<958)\n",
    "stats.norm.cdf(958,950,10)-stats.norm.cdf(947,950,10)"
   ]
  },
  {
   "cell_type": "markdown",
   "id": "e9b8351a-c0b9-48c9-9775-3607b320b65f",
   "metadata": {},
   "source": [
    "### 2- What is the appropriate value for C such that a randomly chosen bolt has a width less than C with probability .8531?"
   ]
  },
  {
   "cell_type": "code",
   "execution_count": 12,
   "id": "7e2b564b-e57a-4c7b-9495-c0b1478a460a",
   "metadata": {},
   "outputs": [
    {
     "data": {
      "text/plain": [
       "960.4982190962642"
      ]
     },
     "execution_count": 12,
     "metadata": {},
     "output_type": "execute_result"
    }
   ],
   "source": [
    "stats.norm.ppf(0.8531,950,10)\n",
    "#For P = 0.8531 z value is 1.05. When I multiply it by std i get 1.05*10 = 10.5 \n",
    "#Then,  I sum up it with mu value which is 950\n",
    "#Answer = 960.5 mm**"
   ]
  },
  {
   "cell_type": "markdown",
   "id": "278d3f66-7925-4bb9-aee6-ae7ab6f1a991",
   "metadata": {},
   "source": [
    "### EXERCISE 4. Suppose scores on exams in statistics are normally distributed with an unknown population mean and a population standard deviation of 3 points. A random sample of 36 scores is taken and gives a sample mean (sample mean score) of 68. Find a confidence interval estimate for the population mean exam score (the mean score on all exams). Find a 90% confidence interval for the true (population) mean of statistics exam scores."
   ]
  },
  {
   "cell_type": "code",
   "execution_count": 22,
   "id": "87e40c8e-2a32-4177-aa14-99d8e6859e32",
   "metadata": {},
   "outputs": [
    {
     "data": {
      "text/plain": [
       "(67.15521377301812, 68.84478622698188)"
      ]
     },
     "execution_count": 22,
     "metadata": {},
     "output_type": "execute_result"
    }
   ],
   "source": [
    "n=36\n",
    "mu=68\n",
    "s=3/6\n",
    "z=stats.t.ppf((1+0.90)/2, n-1)\n",
    "\n",
    "h= s*z\n",
    "CI = (mu-h,mu+h)\n",
    "CI"
   ]
  },
  {
   "cell_type": "code",
   "execution_count": 23,
   "id": "11083f10",
   "metadata": {},
   "outputs": [
    {
     "data": {
      "text/plain": [
       "(67.15521377301812, 68.84478622698188)"
      ]
     },
     "execution_count": 23,
     "metadata": {},
     "output_type": "execute_result"
    }
   ],
   "source": [
    "#alternative way\n",
    "\n",
    "lower_cutoff = stats.t.ppf(0.050, n - 1, loc = mu, scale = s)  \n",
    "upper_cutoff = stats.t.ppf(0.950, n - 1, loc = mu, scale = s) \n",
    "lower_cutoff, upper_cutoff"
   ]
  },
  {
   "cell_type": "markdown",
   "id": "6515f814-2baa-4b1b-996a-217fe83fa45c",
   "metadata": {},
   "source": [
    "### EXERCISE 5.  What is the normal body temperature for healthy humans? A random sample of 130 healthy human body temperatures provided by Allen Shoemaker7 yielded 98.25 degrees and standard deviation 0.73 degrees. Give a 99% confidence interval for the average body temperature of healthy people."
   ]
  },
  {
   "cell_type": "code",
   "execution_count": 20,
   "id": "0091c607-bb99-41a2-9e0c-0dcd55a613bf",
   "metadata": {},
   "outputs": [
    {
     "data": {
      "text/plain": [
       "(98.08260738705933, 98.41739261294067)"
      ]
     },
     "execution_count": 20,
     "metadata": {},
     "output_type": "execute_result"
    }
   ],
   "source": [
    "n = 130\n",
    "mu = 98.25\n",
    "s = 0.73 / np.sqrt(130)\n",
    "\n",
    "z = stats.t.ppf((1+0.99)/2, n-1)\n",
    "\n",
    "h = s * z\n",
    "\n",
    "CI = (mu-h, mu+h)\n",
    "CI"
   ]
  },
  {
   "cell_type": "code",
   "execution_count": null,
   "id": "1e30ec8c",
   "metadata": {},
   "outputs": [],
   "source": []
  }
 ],
 "metadata": {
  "kernelspec": {
   "display_name": "Python 3 (ipykernel)",
   "language": "python",
   "name": "python3"
  },
  "language_info": {
   "codemirror_mode": {
    "name": "ipython",
    "version": 3
   },
   "file_extension": ".py",
   "mimetype": "text/x-python",
   "name": "python",
   "nbconvert_exporter": "python",
   "pygments_lexer": "ipython3",
   "version": "3.9.7"
  }
 },
 "nbformat": 4,
 "nbformat_minor": 5
}
