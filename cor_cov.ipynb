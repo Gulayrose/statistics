{
  "nbformat": 4,
  "nbformat_minor": 0,
  "metadata": {
    "colab": {
      "name": "cor-cov",
      "provenance": [],
      "authorship_tag": "ABX9TyP6JCZF50BVnVE7bKnGGcHx",
      "include_colab_link": true
    },
    "kernelspec": {
      "name": "python3",
      "display_name": "Python 3"
    },
    "language_info": {
      "name": "python"
    }
  },
  "cells": [
    {
      "cell_type": "markdown",
      "metadata": {
        "id": "view-in-github",
        "colab_type": "text"
      },
      "source": [
        "<a href=\"https://colab.research.google.com/github/Gulayrose/statistics/blob/main/cor_cov.ipynb\" target=\"_parent\"><img src=\"https://colab.research.google.com/assets/colab-badge.svg\" alt=\"Open In Colab\"/></a>"
      ]
    },
    {
      "cell_type": "code",
      "execution_count": 1,
      "metadata": {
        "id": "PdRTD84ZFRrH"
      },
      "outputs": [],
      "source": [
        "import numpy as np\n"
      ]
    },
    {
      "cell_type": "code",
      "source": [
        "temp = [93,84,82,78,98,70]\n",
        "number_of_people = [13,10,11,8,15,9]\n",
        "print(\"Covarinace :\" , np.cov(temp,number_of_people))\n",
        "print(\"Correlation : \" , np.corrcoef(temp,number_of_people))"
      ],
      "metadata": {
        "colab": {
          "base_uri": "https://localhost:8080/"
        },
        "id": "TQNDylCCFWYB",
        "outputId": "38372e93-635d-408b-e1d9-ee26e738cebf"
      },
      "execution_count": 4,
      "outputs": [
        {
          "output_type": "stream",
          "name": "stdout",
          "text": [
            "Covarinace : [[102.56666667  24.        ]\n",
            " [ 24.           6.8       ]]\n",
            "Correlation :  [[1.         0.90876934]\n",
            " [0.90876934 1.        ]]\n"
          ]
        }
      ]
    },
    {
      "cell_type": "code",
      "source": [
        ""
      ],
      "metadata": {
        "id": "S84BBKiIFWgG"
      },
      "execution_count": null,
      "outputs": []
    }
  ]
}