{
  "cells": [
    {
      "cell_type": "markdown",
      "metadata": {
        "id": "view-in-github",
        "colab_type": "text"
      },
      "source": [
        "<a href=\"https://colab.research.google.com/github/Gulayrose/statistics/blob/main/Statistics_Session_4.ipynb\" target=\"_parent\"><img src=\"https://colab.research.google.com/assets/colab-badge.svg\" alt=\"Open In Colab\"/></a>"
      ]
    },
    {
      "cell_type": "markdown",
      "id": "53446b45",
      "metadata": {
        "id": "53446b45"
      },
      "source": [
        "## Import Libraries"
      ]
    },
    {
      "cell_type": "code",
      "execution_count": null,
      "id": "f04c11a6",
      "metadata": {
        "id": "f04c11a6"
      },
      "outputs": [],
      "source": [
        "import numpy as np\n",
        "import pandas as pd\n",
        "from scipy import stats\n",
        "import matplotlib.pyplot as plt\n",
        "import seaborn as sns"
      ]
    },
    {
      "cell_type": "markdown",
      "id": "7f64dbd8",
      "metadata": {
        "id": "7f64dbd8"
      },
      "source": [
        "## Data"
      ]
    },
    {
      "cell_type": "code",
      "execution_count": null,
      "id": "bbbc1110",
      "metadata": {
        "id": "bbbc1110"
      },
      "outputs": [],
      "source": [
        "happiness_score = [2.69,5.00,5.04,5.79,5.06,7.18,7.40,5.17,4.50,5.23,6.89,5.82,5.92,5.89,3.46,6.19,5.10,4.93,3.78,5.12,5.25,\n",
        "                   7.18, 4.49,6.44,5.13,5.98,3.97,5.49,7.14,5.54,7.03,7.65,5.43,6.13,4.01,6.28,6.09,4.38,7.86,6.67,4.78,4.92,\n",
        "                   4.66,7.12,5.41,6.63,5.25, 3.61,5.91,3.82,5.34,4.28,6.96,6.93,6.52,5.27,5.79,4.64,6.01,4.66,5.30,4.86,5.90,\n",
        "                   5.17,4.13,6.31,7.24,5.24,4.07,3.33,5.34,4.42,4.31,5.88,6.55,5.68,5.46,5.65,4.90,4.65,4.41,4.83,4.91,7.46,\n",
        "                   7.37,5.82,5.16,5.25,7.44,5.47,6.28,5.68,5.87,5.92,6.15,5.51,3.56,6.36,4.77,5.94,4.31,6.24,6.25,4.88,\n",
        "                   5.84,6.51,4.40,7.37,7.51,3.45,6.01,4.02,4.74,5.19,4.62,4.32,4.66,6.60,7.23,6.88,6.37,6.21,5.01,5.30,\n",
        "                   4.04,3.62]\n",
        "\n",
        "life_exp = [52.60,68.70,65.90,68.80,66.90,73.60,73.00,65.50,64.30,66.10,72.00,54.30,63.60,67.80,58.90,66.40,66.80,\n",
        "            53.90,53.40,61.60,52.70,73.60,48.20,69.90,69.30,67.70,57.20,57.90,71.30,70.20,70.30,72.40,65.80, 68.50,\n",
        "            61.70,66.10,68.60,58.50,71.90,73.80,59.70,55.00,64.50,72.20,72.40,64.80,54.40,55.70,67.20,60.10,62.10,66.00,\n",
        "            72.30,73.30,73.60,49.50,75.00,66.80,64.60,60.10,64.10,58.70,66.80,67.10,56.10, 67.30,72.60,67.50,59.10,57.60,\n",
        "            67.00,51.70,57.00,66.40,68.30,65.00,62.30,68.50,65.90,54.20,59.00,56.50,63.50,72.30,73.20,67.50,53.50,49.70,\n",
        "            73.20,58.50,69.60,68.10,61.90,72.40,67.20,64.30,61.10, 66.30,59.60,68.20,50.80,68.90,71.10,56.50,73.60,\n",
        "            74.40,67.20,72.60,74.10,57.50,67.20,54.70,66.90,66.80,62.20,55.70,64.60,67.10,72.30,68.30,69.00,65.10,66.50,\n",
        "            67.90,55.30,55.60]"
      ]
    },
    {
      "cell_type": "markdown",
      "id": "ddd4ba9b",
      "metadata": {
        "id": "ddd4ba9b"
      },
      "source": [
        "## Descriptive Statistics"
      ]
    },
    {
      "cell_type": "code",
      "source": [
        "type(life_exp) # check the type of dataset"
      ],
      "metadata": {
        "colab": {
          "base_uri": "https://localhost:8080/"
        },
        "id": "nP4S6jacgCMN",
        "outputId": "7fc1e95f-0fab-45ad-bcf7-aedfa7b802f8"
      },
      "id": "nP4S6jacgCMN",
      "execution_count": null,
      "outputs": [
        {
          "output_type": "execute_result",
          "data": {
            "text/plain": [
              "list"
            ]
          },
          "metadata": {},
          "execution_count": 3
        }
      ]
    },
    {
      "cell_type": "markdown",
      "id": "4e054998",
      "metadata": {
        "id": "4e054998"
      },
      "source": [
        "### Central Tendency"
      ]
    },
    {
      "cell_type": "code",
      "execution_count": null,
      "id": "12245851",
      "metadata": {
        "id": "12245851",
        "outputId": "4fc4314e-0535-490a-fc6d-bf7091b8b5a7",
        "colab": {
          "base_uri": "https://localhost:8080/"
        }
      },
      "outputs": [
        {
          "output_type": "execute_result",
          "data": {
            "text/plain": [
              "64.52142857142859"
            ]
          },
          "metadata": {},
          "execution_count": 4
        }
      ],
      "source": [
        "np.mean(life_exp)"
      ]
    },
    {
      "cell_type": "code",
      "execution_count": null,
      "id": "1e9adb23",
      "metadata": {
        "id": "1e9adb23",
        "outputId": "4f6e5ac0-a2f2-4873-f071-d48692919920",
        "colab": {
          "base_uri": "https://localhost:8080/"
        }
      },
      "outputs": [
        {
          "output_type": "execute_result",
          "data": {
            "text/plain": [
              "66.35"
            ]
          },
          "metadata": {},
          "execution_count": 5
        }
      ],
      "source": [
        "np.median(life_exp)"
      ]
    },
    {
      "cell_type": "code",
      "execution_count": null,
      "id": "12566a1b",
      "metadata": {
        "id": "12566a1b",
        "outputId": "9a26bae8-c644-4a38-9925-fc65e38247d7",
        "colab": {
          "base_uri": "https://localhost:8080/"
        }
      },
      "outputs": [
        {
          "output_type": "execute_result",
          "data": {
            "text/plain": [
              "ModeResult(mode=array([66.8]), count=array([4]))"
            ]
          },
          "metadata": {},
          "execution_count": 16
        }
      ],
      "source": [
        "stats.mode(life_exp) # using stats module to calculate mode"
      ]
    },
    {
      "cell_type": "markdown",
      "source": [
        "Mode: 66.8 and it repeats 4 times in the dataset."
      ],
      "metadata": {
        "id": "KSF8ITPYPrlg"
      },
      "id": "KSF8ITPYPrlg"
    },
    {
      "cell_type": "markdown",
      "id": "0dad6ba8",
      "metadata": {
        "id": "0dad6ba8"
      },
      "source": [
        "### Dispersion"
      ]
    },
    {
      "cell_type": "code",
      "execution_count": null,
      "id": "64eb178f",
      "metadata": {
        "id": "64eb178f",
        "outputId": "64b02642-107b-4c97-9695-e00c5cdb548c",
        "colab": {
          "base_uri": "https://localhost:8080/"
        }
      },
      "outputs": [
        {
          "output_type": "execute_result",
          "data": {
            "text/plain": [
              "44.22819160997732"
            ]
          },
          "metadata": {},
          "execution_count": 14
        }
      ],
      "source": [
        "np.var(life_exp) # calculating variance"
      ]
    },
    {
      "cell_type": "code",
      "execution_count": null,
      "id": "6c277622",
      "metadata": {
        "id": "6c277622",
        "outputId": "5fd41ada-5c16-4448-8c49-215174bc8d52",
        "colab": {
          "base_uri": "https://localhost:8080/"
        }
      },
      "outputs": [
        {
          "output_type": "execute_result",
          "data": {
            "text/plain": [
              "6.6504279268312745"
            ]
          },
          "metadata": {},
          "execution_count": 15
        }
      ],
      "source": [
        "np.std(life_exp) # standard deviation"
      ]
    },
    {
      "cell_type": "code",
      "execution_count": null,
      "id": "6e4d14cf",
      "metadata": {
        "id": "6e4d14cf",
        "outputId": "43bbf017-3a4e-4e3a-9ac5-f78d914951fa",
        "colab": {
          "base_uri": "https://localhost:8080/"
        }
      },
      "outputs": [
        {
          "output_type": "execute_result",
          "data": {
            "text/plain": [
              "59.025"
            ]
          },
          "metadata": {},
          "execution_count": 10
        }
      ],
      "source": [
        "q1 = np.percentile(life_exp, 25)  # calculating %25th quartile \n",
        "q1"
      ]
    },
    {
      "cell_type": "code",
      "execution_count": null,
      "id": "601fad89",
      "metadata": {
        "id": "601fad89",
        "outputId": "d0cc7019-13ad-4bce-ad3c-6a0ac7dd5192",
        "colab": {
          "base_uri": "https://localhost:8080/"
        }
      },
      "outputs": [
        {
          "output_type": "execute_result",
          "data": {
            "text/plain": [
              "68.875"
            ]
          },
          "metadata": {},
          "execution_count": 18
        }
      ],
      "source": [
        "q3 = np.percentile(life_exp, 75)  # calculating %75th quartile\n",
        "q3"
      ]
    },
    {
      "cell_type": "code",
      "source": [
        "iqr = q3 - q1  # classical approach\n",
        "iqr"
      ],
      "metadata": {
        "colab": {
          "base_uri": "https://localhost:8080/"
        },
        "id": "K3xLdgARS34N",
        "outputId": "e79b32a3-4967-422e-8088-0cf801d85c3b"
      },
      "id": "K3xLdgARS34N",
      "execution_count": null,
      "outputs": [
        {
          "output_type": "execute_result",
          "data": {
            "text/plain": [
              "9.850000000000001"
            ]
          },
          "metadata": {},
          "execution_count": 21
        }
      ]
    },
    {
      "cell_type": "code",
      "execution_count": null,
      "id": "907e1d98",
      "metadata": {
        "id": "907e1d98",
        "outputId": "0a7620ca-a56e-4249-9066-17f14451aa48",
        "colab": {
          "base_uri": "https://localhost:8080/"
        }
      },
      "outputs": [
        {
          "output_type": "execute_result",
          "data": {
            "text/plain": [
              "9.850000000000001"
            ]
          },
          "metadata": {},
          "execution_count": 22
        }
      ],
      "source": [
        "stats.iqr(life_exp)  # calculating iqr with stats module"
      ]
    },
    {
      "cell_type": "code",
      "execution_count": null,
      "id": "5f54c9c6",
      "metadata": {
        "id": "5f54c9c6",
        "outputId": "dadc1316-78ec-4a1a-f86a-4b6ac33c26a7",
        "colab": {
          "base_uri": "https://localhost:8080/"
        }
      },
      "outputs": [
        {
          "output_type": "execute_result",
          "data": {
            "text/plain": [
              "48.2"
            ]
          },
          "metadata": {},
          "execution_count": 23
        }
      ],
      "source": [
        "np.min(life_exp)"
      ]
    },
    {
      "cell_type": "code",
      "execution_count": null,
      "id": "7a22c657",
      "metadata": {
        "id": "7a22c657",
        "outputId": "9bff03d5-935f-433e-e4f3-9b53aa63e065",
        "colab": {
          "base_uri": "https://localhost:8080/"
        }
      },
      "outputs": [
        {
          "output_type": "execute_result",
          "data": {
            "text/plain": [
              "75.0"
            ]
          },
          "metadata": {},
          "execution_count": 24
        }
      ],
      "source": [
        "np.max(life_exp)"
      ]
    },
    {
      "cell_type": "markdown",
      "id": "33596855",
      "metadata": {
        "id": "33596855"
      },
      "source": [
        "### Shape"
      ]
    },
    {
      "cell_type": "code",
      "execution_count": null,
      "id": "bc8934f7",
      "metadata": {
        "id": "bc8934f7",
        "outputId": "0dca829f-1302-4553-e7ce-e8ebe837ea38",
        "colab": {
          "base_uri": "https://localhost:8080/"
        }
      },
      "outputs": [
        {
          "output_type": "execute_result",
          "data": {
            "text/plain": [
              "-0.507998161416463"
            ]
          },
          "metadata": {},
          "execution_count": 29
        }
      ],
      "source": [
        "stats.skew(life_exp)  # see result: negatively skewed"
      ]
    },
    {
      "cell_type": "code",
      "execution_count": null,
      "id": "cd481956",
      "metadata": {
        "id": "cd481956",
        "outputId": "d806adc1-8e87-47bd-9a2e-44501f34ef3d",
        "colab": {
          "base_uri": "https://localhost:8080/"
        }
      },
      "outputs": [
        {
          "output_type": "execute_result",
          "data": {
            "text/plain": [
              "-0.7040394620922208"
            ]
          },
          "metadata": {},
          "execution_count": 28
        }
      ],
      "source": [
        "stats.kurtosis(life_exp)  # see how this value lower than zero. (Dagilim basik cikacagini bu degerden anlayabilirsiniz)"
      ]
    },
    {
      "cell_type": "markdown",
      "id": "0a9ed103",
      "metadata": {
        "id": "0a9ed103"
      },
      "source": [
        "## Histogram"
      ]
    },
    {
      "cell_type": "code",
      "execution_count": null,
      "id": "09161783",
      "metadata": {
        "id": "09161783",
        "outputId": "931029e1-789a-41cf-a335-8774dfb398fb",
        "colab": {
          "base_uri": "https://localhost:8080/",
          "height": 265
        }
      },
      "outputs": [
        {
          "output_type": "display_data",
          "data": {
            "image/png": "[encoded data removed]",
            "text/plain": [
              "<Figure size 432x288 with 1 Axes>"
            ]
          },
          "metadata": {
            "needs_background": "light"
          }
        }
      ],
      "source": [
        "# Create a histogram of life_exp and show\n",
        "plt.hist(life_exp)\n",
        "\n",
        "# Show plot\n",
        "plt.show()"
      ]
    },
    {
      "cell_type": "code",
      "execution_count": null,
      "id": "85160981",
      "metadata": {
        "id": "85160981",
        "outputId": "8c40ec8c-a803-4e57-acab-8911c156627a",
        "colab": {
          "base_uri": "https://localhost:8080/",
          "height": 265
        }
      },
      "outputs": [
        {
          "output_type": "display_data",
          "data": {
            "image/png": "[encoded data removed]",
            "text/plain": [
              "<Figure size 432x288 with 1 Axes>"
            ]
          },
          "metadata": {
            "needs_background": "light"
          }
        }
      ],
      "source": [
        "sns.kdeplot(life_exp)\n",
        "plt.show()"
      ]
    },
    {
      "cell_type": "markdown",
      "id": "4b581a5c",
      "metadata": {
        "id": "4b581a5c"
      },
      "source": [
        "# Scatter Plot"
      ]
    },
    {
      "cell_type": "code",
      "execution_count": null,
      "id": "c7ba8160",
      "metadata": {
        "id": "c7ba8160",
        "outputId": "d74cf038-6660-48b1-fd3d-56d55a8e6317"
      },
      "outputs": [
        {
          "data": {
            "image/png": "[encoded data removed]",
            "text/plain": [
              "<Figure size 640x480 with 1 Axes>"
            ]
          },
          "metadata": {},
          "output_type": "display_data"
        }
      ],
      "source": [
        "# Create a scatterplot of happiness_score vs. life_exp and show\n",
        "sns.scatterplot(x=life_exp, y=happiness_score)\n",
        "\n",
        "# Show plot\n",
        "plt.show()"
      ]
    },
    {
      "cell_type": "markdown",
      "id": "037ca866",
      "metadata": {
        "id": "037ca866"
      },
      "source": [
        "## Correlation"
      ]
    },
    {
      "cell_type": "code",
      "execution_count": null,
      "id": "fefaca11",
      "metadata": {
        "id": "fefaca11",
        "outputId": "30ec2093-648d-4280-a816-bed6278eb095",
        "colab": {
          "base_uri": "https://localhost:8080/"
        }
      },
      "outputs": [
        {
          "output_type": "execute_result",
          "data": {
            "text/plain": [
              "0.7406268830335517"
            ]
          },
          "metadata": {},
          "execution_count": 38
        }
      ],
      "source": [
        "r, p = stats.pearsonr(happiness_score, life_exp)  # see positive correlation (comparable value with others)\n",
        "r"
      ]
    },
    {
      "cell_type": "code",
      "execution_count": null,
      "id": "00fba300",
      "metadata": {
        "id": "00fba300",
        "outputId": "bcbefcfb-0949-4699-b6b5-e86312a614e7",
        "colab": {
          "base_uri": "https://localhost:8080/"
        }
      },
      "outputs": [
        {
          "output_type": "execute_result",
          "data": {
            "text/plain": [
              "SpearmanrResult(correlation=0.7712877029752038, pvalue=4.3121609782706506e-26)"
            ]
          },
          "metadata": {},
          "execution_count": 39
        }
      ],
      "source": [
        "stats.spearmanr(happiness_score, life_exp)  # also correlation value, based on different theoratical background), notice p-value <0.05"
      ]
    },
    {
      "cell_type": "code",
      "execution_count": null,
      "id": "5ee0d5a5",
      "metadata": {
        "id": "5ee0d5a5",
        "outputId": "52ed3522-eade-4737-d8e7-bdb513cc49d7",
        "colab": {
          "base_uri": "https://localhost:8080/"
        }
      },
      "outputs": [
        {
          "output_type": "execute_result",
          "data": {
            "text/plain": [
              "KendalltauResult(correlation=0.5653841906249265, pvalue=8.286382802858583e-21)"
            ]
          },
          "metadata": {},
          "execution_count": 40
        }
      ],
      "source": [
        "stats.kendalltau(happiness_score, life_exp)  # kendalltau is also a correlation value), notice p-value <0.05"
      ]
    },
    {
      "cell_type": "code",
      "execution_count": null,
      "id": "f75991a1",
      "metadata": {
        "id": "f75991a1",
        "outputId": "666ee0ed-b81b-42bf-93a6-c640f75c7148",
        "colab": {
          "base_uri": "https://localhost:8080/"
        }
      },
      "outputs": [
        {
          "output_type": "execute_result",
          "data": {
            "text/plain": [
              "array([[1.        , 0.74062688],\n",
              "       [0.74062688, 1.        ]])"
            ]
          },
          "metadata": {},
          "execution_count": 41
        }
      ],
      "source": [
        "np.corrcoef(happiness_score, life_exp)"
      ]
    },
    {
      "cell_type": "markdown",
      "id": "7613bb56",
      "metadata": {
        "id": "7613bb56"
      },
      "source": [
        "## Covariance"
      ]
    },
    {
      "cell_type": "code",
      "execution_count": null,
      "id": "c5c2345f",
      "metadata": {
        "id": "c5c2345f",
        "outputId": "fb20be18-a199-46bb-c212-e7a5fdcd8124",
        "colab": {
          "base_uri": "https://localhost:8080/"
        }
      },
      "outputs": [
        {
          "output_type": "execute_result",
          "data": {
            "text/plain": [
              "array([[ 1.20644137,  5.43165829],\n",
              "       [ 5.43165829, 44.58201714]])"
            ]
          },
          "metadata": {},
          "execution_count": 42
        }
      ],
      "source": [
        "np.cov(happiness_score, life_exp)"
      ]
    },
    {
      "cell_type": "code",
      "execution_count": null,
      "id": "86f22dc9",
      "metadata": {
        "id": "86f22dc9",
        "outputId": "36ee78c7-3eff-4f19-90c6-522c689d9c63",
        "colab": {
          "base_uri": "https://localhost:8080/"
        }
      },
      "outputs": [
        {
          "output_type": "execute_result",
          "data": {
            "text/plain": [
              "1.2064413714285713"
            ]
          },
          "metadata": {},
          "execution_count": 43
        }
      ],
      "source": [
        "stats.tvar(happiness_score)"
      ]
    },
    {
      "cell_type": "code",
      "execution_count": null,
      "id": "a8a1ce09",
      "metadata": {
        "id": "a8a1ce09",
        "outputId": "656bcaa7-6f12-4545-d357-a9245e1f41dd",
        "colab": {
          "base_uri": "https://localhost:8080/"
        }
      },
      "outputs": [
        {
          "output_type": "execute_result",
          "data": {
            "text/plain": [
              "44.58201714285714"
            ]
          },
          "metadata": {},
          "execution_count": 44
        }
      ],
      "source": [
        "stats.tvar(life_exp)"
      ]
    },
    {
      "cell_type": "code",
      "execution_count": null,
      "id": "cb7bf003",
      "metadata": {
        "id": "cb7bf003"
      },
      "outputs": [],
      "source": [
        ""
      ]
    },
    {
      "cell_type": "code",
      "execution_count": null,
      "id": "3aeebdfd",
      "metadata": {
        "id": "3aeebdfd"
      },
      "outputs": [],
      "source": [
        ""
      ]
    }
  ],
  "metadata": {
    "kernelspec": {
      "display_name": "Python 3",
      "language": "python",
      "name": "python3"
    },
    "language_info": {
      "codemirror_mode": {
        "name": "ipython",
        "version": 3
      },
      "file_extension": ".py",
      "mimetype": "text/x-python",
      "name": "python",
      "nbconvert_exporter": "python",
      "pygments_lexer": "ipython3",
      "version": "3.7.11"
    },
    "colab": {
      "name": "Statistics_Session_4.ipynb",
      "provenance": [],
      "collapsed_sections": [],
      "include_colab_link": true
    }
  },
  "nbformat": 4,
  "nbformat_minor": 5
}