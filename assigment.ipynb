{
  "nbformat": 4,
  "nbformat_minor": 0,
  "metadata": {
    "colab": {
      "name": "assigment",
      "provenance": [],
      "authorship_tag": "ABX9TyNtJxJAso/hGsfxIeWzSCUP",
      "include_colab_link": true
    },
    "kernelspec": {
      "name": "python3",
      "display_name": "Python 3"
    },
    "language_info": {
      "name": "python"
    }
  },
  "cells": [
    {
      "cell_type": "markdown",
      "metadata": {
        "id": "view-in-github",
        "colab_type": "text"
      },
      "source": [
        "<a href=\"https://colab.research.google.com/github/Gulayrose/statistics/blob/main/assigment.ipynb\" target=\"_parent\"><img src=\"https://colab.research.google.com/assets/colab-badge.svg\" alt=\"Open In Colab\"/></a>"
      ]
    },
    {
      "cell_type": "code",
      "execution_count": null,
      "metadata": {
        "id": "dVO0IPsMntEY"
      },
      "outputs": [],
      "source": [
        ""
      ]
    },
    {
      "cell_type": "markdown",
      "source": [
        "Günün sorusu: Write a function that takes a single \n",
        "integer as input and returns the sum of the integers from zero to the input parameter.\n",
        "The function should return 0 if a non-integer is passed in."
      ],
      "metadata": {
        "id": "L5HgBCvonvzD"
      }
    },
    {
      "cell_type": "code",
      "source": [
        "def sumofinteger(x):\n",
        "  if isinstance(x,int):\n",
        "    sum = 0\n",
        "    if x > 0 :\n",
        "      for i in range(x+1):\n",
        "        sum+=i\n",
        "      return sum\n",
        "    else :\n",
        "      for i in range(-x+1):\n",
        "         sum += i \n",
        "      return -sum\n",
        "  else :\n",
        "      return (0)\n",
        "print(sumofinteger(5))\n",
        "print(sumofinteger(-5))\n",
        "print(sumofinteger(\"elma\"))\n",
        "print(sumofinteger(0))               \n",
        "\n"
      ],
      "metadata": {
        "colab": {
          "base_uri": "https://localhost:8080/"
        },
        "id": "ee077Vdgn1PD",
        "outputId": "444e94fe-e527-4bac-fa35-af3bc19f21d6"
      },
      "execution_count": 6,
      "outputs": [
        {
          "output_type": "stream",
          "name": "stdout",
          "text": [
            "15\n",
            "-15\n",
            "0\n",
            "0\n"
          ]
        }
      ]
    },
    {
      "cell_type": "code",
      "source": [
        "def func(num):\n",
        "  if type(num) != int:\n",
        "    print(\"0\")\n",
        "  elif num < 0 :\n",
        "    print(sum([i for i in range(num,0)]))\n",
        "  else :\n",
        "    print(sum([i for i in range (0,num+1)]))\n",
        "print(func(5))         \n",
        "   "
      ],
      "metadata": {
        "colab": {
          "base_uri": "https://localhost:8080/"
        },
        "id": "3En-U68vp93d",
        "outputId": "62016208-f812-4d18-92ba-aef4584376db"
      },
      "execution_count": 7,
      "outputs": [
        {
          "output_type": "stream",
          "name": "stdout",
          "text": [
            "15\n",
            "None\n"
          ]
        }
      ]
    },
    {
      "cell_type": "code",
      "source": [
        ""
      ],
      "metadata": {
        "id": "T4ayBx2lp903"
      },
      "execution_count": null,
      "outputs": []
    }
  ]
}