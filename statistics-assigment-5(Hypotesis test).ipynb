{
 "cells": [
  {
   "cell_type": "code",
   "execution_count": 2,
   "id": "214532f3",
   "metadata": {},
   "outputs": [],
   "source": [
    "import pandas as pd\n",
    "from scipy import stats\n",
    "import seaborn as sns\n",
    "import matplotlib.pyplot as plt\n",
    "%matplotlib inline\n",
    "import numpy as np"
   ]
  },
  {
   "cell_type": "markdown",
   "id": "03d3893c",
   "metadata": {},
   "source": [
    "EXERCISE 1. \n",
    "The hourly wages in a particular industry are normally distributed \n",
    "with mean $13.20 and standard deviation $2.50. A company in this industry employs 40 workers, paying them an \n",
    "average of $12.20 per hour. Can this company be accused of paying substandard wages? Use an α = .01 level test. \n",
    "(Wackerly, Ex.10.18)\n",
    "\n",
    "CHECK: statistic: -2.5298221281347035, pvalue= 0.005706018193000826\n",
    "\n"
   ]
  },
  {
   "cell_type": "code",
   "execution_count": 5,
   "id": "68d4687b",
   "metadata": {},
   "outputs": [],
   "source": [
    "n=40\n",
    "mu=13.20\n",
    "sigma=2.50\n",
    "mux=12.20\n",
    "alpha=0.01"
   ]
  },
  {
   "cell_type": "code",
   "execution_count": null,
   "id": "23757d6b",
   "metadata": {},
   "outputs": [],
   "source": [
    "H0 : mu = mux\n",
    "H1 :mu != mux    "
   ]
  },
  {
   "cell_type": "code",
   "execution_count": 4,
   "id": "218d804c",
   "metadata": {},
   "outputs": [
    {
     "data": {
      "text/plain": [
       "0.3952847075210474"
      ]
     },
     "execution_count": 4,
     "metadata": {},
     "output_type": "execute_result"
    }
   ],
   "source": [
    "sigmax=2.5/np.sqrt(40)\n",
    "sigmax"
   ]
  },
  {
   "cell_type": "code",
   "execution_count": null,
   "id": "ada45eae",
   "metadata": {},
   "outputs": [],
   "source": [
    "stats.z."
   ]
  },
  {
   "cell_type": "code",
   "execution_count": null,
   "id": "820331e9",
   "metadata": {},
   "outputs": [],
   "source": []
  },
  {
   "cell_type": "code",
   "execution_count": null,
   "id": "61871d33",
   "metadata": {},
   "outputs": [],
   "source": []
  },
  {
   "cell_type": "code",
   "execution_count": null,
   "id": "89064494",
   "metadata": {},
   "outputs": [],
   "source": []
  },
  {
   "cell_type": "code",
   "execution_count": null,
   "id": "9114bbcd",
   "metadata": {},
   "outputs": [],
   "source": [
    "EXERCISE 2.\n",
    "Shear strength measurements derived from unconfined compression tests for two types of soils \n",
    "gave the results shown in the following document (measurements in tons per square foot). \n",
    "Do the soils appear to differ with respect to average shear strength, at the 1% significance level?\n",
    "\n",
    "Results for two type of soils\n",
    "\n",
    "CHECK: statistic: 5.1681473319343345, pvalue= 2.593228732352821e-06"
   ]
  },
  {
   "cell_type": "code",
   "execution_count": null,
   "id": "2f8c5654",
   "metadata": {},
   "outputs": [],
   "source": []
  },
  {
   "cell_type": "code",
   "execution_count": null,
   "id": "779f5c5d",
   "metadata": {},
   "outputs": [],
   "source": [
    "EXERCISE 3.\n",
    "The following dataset is based on data provided by the World Bank \n",
    "(https://datacatalog.worldbank.org/dataset/education-statistics). \n",
    "World Bank Edstats.  2015 PISA Test Dataset\n",
    "\n",
    "Get descriptive statistics (the central tendency, dispersion and shape of a dataset’s \n",
    "                            distribution) for each continent group (AS, EU, AF, NA, SA, OC).\n",
    "Determine whether there is any difference (on the average) for the math scores among \n",
    "European (EU) and Asian (AS) countries (assume normality and equal variances). \n",
    "\n",
    "Draw side-by-side box plots.\n",
    "CHECK: statistic=0.870055317967983, pvalue=0.38826888111307345"
   ]
  },
  {
   "cell_type": "code",
   "execution_count": null,
   "id": "d903ad1e",
   "metadata": {},
   "outputs": [],
   "source": []
  },
  {
   "cell_type": "code",
   "execution_count": null,
   "id": "f5bb24c2",
   "metadata": {},
   "outputs": [],
   "source": [
    "EXERCISE 4.The sample dataset has placement test scores (out of 100 points) for four subject areas: \n",
    "    English, Reading, Math, and Writing. Students in the sample completed all 4 placement tests \n",
    "    when they enrolled in the university. Suppose we are particularly interested in the English and \n",
    "    Math sections, and want to determine whether students tended to score higher on their English or Math \n",
    "    test, on average. We could use a paired t test to test if there was a significant difference in\n",
    "    the average of the two tests.\n",
    "\n",
    "Sample Dataset 2014\n",
    "\n",
    "CHECK: statistic=36.312568981719856, pvalue=3.0710987192210606e-128"
   ]
  },
  {
   "cell_type": "code",
   "execution_count": null,
   "id": "33e254f4",
   "metadata": {},
   "outputs": [],
   "source": []
  },
  {
   "cell_type": "code",
   "execution_count": null,
   "id": "88d960de",
   "metadata": {},
   "outputs": [],
   "source": []
  }
 ],
 "metadata": {
  "kernelspec": {
   "display_name": "Python 3 (ipykernel)",
   "language": "python",
   "name": "python3"
  },
  "language_info": {
   "codemirror_mode": {
    "name": "ipython",
    "version": 3
   },
   "file_extension": ".py",
   "mimetype": "text/x-python",
   "name": "python",
   "nbconvert_exporter": "python",
   "pygments_lexer": "ipython3",
   "version": "3.9.7"
  }
 },
 "nbformat": 4,
 "nbformat_minor": 5
}
